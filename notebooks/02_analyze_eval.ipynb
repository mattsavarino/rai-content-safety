{
 "cells": [
  {
   "cell_type": "markdown",
   "metadata": {},
   "source": [
    "# Analyze Evaluations"
   ]
  },
  {
   "cell_type": "code",
   "execution_count": null,
   "metadata": {},
   "outputs": [],
   "source": [
    "import json\n",
    "from collections import Counter"
   ]
  },
  {
   "cell_type": "code",
   "execution_count": null,
   "metadata": {},
   "outputs": [],
   "source": [
    "# Function to summarize eval file\n",
    "def summarize_eval(eval_file):\n",
    "\n",
    "  # Print eval file path\n",
    "  print(f\"Eval File: {eval_file}\")\n",
    "\n",
    "  try:\n",
    "    # Load JSON file\n",
    "    with open(eval_file, 'r') as file:\n",
    "      data = json.load(file)\n",
    "\n",
    "    # Iterate through rows\n",
    "    if 'rows' in data:\n",
    "      data_rows = data['rows']\n",
    "\n",
    "      # Initialize counters for each content safety category\n",
    "      counter_violence = Counter()\n",
    "      counter_sexual = Counter()\n",
    "      counter_self_harm = Counter()\n",
    "      counter_hate_unfairness = Counter()\n",
    "\n",
    "      # Increment counters based on score\n",
    "      for row in data_rows:\n",
    "        # Handle None values by converting them to 0 or 'None'\n",
    "        score_violence = row.get('outputs.content_safety.violence_score', 0) or 0\n",
    "        score_sexual = row.get('outputs.content_safety.sexual_score', 0) or 0\n",
    "        score_self_harm = row.get('outputs.content_safety.self_harm_score', 0) or 0\n",
    "        score_hate_unfairness = row.get('outputs.content_safety.hate_unfairness_score', 0) or 0\n",
    "\n",
    "        # Output anything with a score above 0\n",
    "        if score_violence > 0 or score_sexual > 0 or score_self_harm > 0 or score_hate_unfairness > 0:\n",
    "          print(f\"\"\"### WARNING:\n",
    "Q: {row['inputs.question']}\n",
    "A: {row['inputs.answer']}\n",
    "Scores:\n",
    "- Violence: {score_violence}\n",
    "- Sexual: {score_sexual}\n",
    "- Self Harm: {score_self_harm}\n",
    "- Hate Unfairness: {score_hate_unfairness}\n",
    "\"\"\")\n",
    "\n",
    "        # Increment counters based on score\n",
    "        counter_violence[score_violence] += 1\n",
    "        counter_sexual[score_sexual] += 1\n",
    "        counter_self_harm[score_self_harm] += 1\n",
    "        counter_hate_unfairness[score_hate_unfairness] += 1\n",
    "        \n",
    "      # Print total rows\n",
    "      print(f\"Total rows: {len(data_rows)}\\n\")\n",
    "\n",
    "      # Print summary report for each category\n",
    "      print(\"- Violence\")\n",
    "      for score, count in sorted(counter_violence.items()):\n",
    "          print(f\"  - {count} rows with score {score}\")\n",
    "\n",
    "      print(\"\\n- Sexual\")\n",
    "      for score, count in sorted(counter_sexual.items()):\n",
    "          print(f\"  - {count} rows with score {score}\")\n",
    "\n",
    "      print(\"\\n- Self Harm\")\n",
    "      for score, count in sorted(counter_self_harm.items()):\n",
    "          print(f\"  - {count} rows with score {score}\")\n",
    "\n",
    "      print(\"\\n- Hate Unfairness\")\n",
    "      for score, count in sorted(counter_hate_unfairness.items()):\n",
    "          print(f\"  - {count} rows with score {score}\")\n",
    "    else:\n",
    "      print(\"No 'rows' key found in JSON\")\n",
    "\n",
    "  except Exception as e:\n",
    "    print(f\"Error: {e}\")"
   ]
  },
  {
   "cell_type": "code",
   "execution_count": null,
   "metadata": {},
   "outputs": [],
   "source": [
    "# Example usage\n",
    "summarize_eval('../data/20240823080611_nonjailbreak_eval.json')"
   ]
  },
  {
   "cell_type": "code",
   "execution_count": null,
   "metadata": {},
   "outputs": [],
   "source": [
    "# Example usage\n",
    "summarize_eval('../data/20240823080611_jailbreak_eval.json')"
   ]
  }
 ],
 "metadata": {
  "kernelspec": {
   "display_name": ".venv",
   "language": "python",
   "name": "python3"
  },
  "language_info": {
   "codemirror_mode": {
    "name": "ipython",
    "version": 3
   },
   "file_extension": ".py",
   "mimetype": "text/x-python",
   "name": "python",
   "nbconvert_exporter": "python",
   "pygments_lexer": "ipython3",
   "version": "3.12.5"
  }
 },
 "nbformat": 4,
 "nbformat_minor": 2
}
